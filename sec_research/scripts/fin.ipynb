{
 "cells": [
  {
   "cell_type": "code",
   "execution_count": 4,
   "metadata": {},
   "outputs": [
    {
     "ename": "ImportError",
     "evalue": "cannot import name 'Aer' from 'qiskit' (/Users/ofidohubvm/opt/anaconda3/envs/qiskit_env/lib/python3.8/site-packages/qiskit/__init__.py)",
     "output_type": "error",
     "traceback": [
      "\u001b[0;31m---------------------------------------------------------------------------\u001b[0m",
      "\u001b[0;31mImportError\u001b[0m                               Traceback (most recent call last)",
      "Cell \u001b[0;32mIn[4], line 1\u001b[0m\n\u001b[0;32m----> 1\u001b[0m \u001b[38;5;28;01mfrom\u001b[39;00m \u001b[38;5;21;01mqiskit\u001b[39;00m \u001b[38;5;28;01mimport\u001b[39;00m Aer, QuantumCircuit, transpile, execute\n\u001b[1;32m      2\u001b[0m \u001b[38;5;28;01mfrom\u001b[39;00m \u001b[38;5;21;01mqiskit_optimization\u001b[39;00m \u001b[38;5;28;01mimport\u001b[39;00m QuadraticProgram\n\u001b[1;32m      3\u001b[0m \u001b[38;5;28;01mfrom\u001b[39;00m \u001b[38;5;21;01mqiskit_optimization\u001b[39;00m\u001b[38;5;21;01m.\u001b[39;00m\u001b[38;5;21;01malgorithms\u001b[39;00m \u001b[38;5;28;01mimport\u001b[39;00m QAOA\n",
      "\u001b[0;31mImportError\u001b[0m: cannot import name 'Aer' from 'qiskit' (/Users/ofidohubvm/opt/anaconda3/envs/qiskit_env/lib/python3.8/site-packages/qiskit/__init__.py)"
     ]
    }
   ],
   "source": [
    "from qiskit import Aer, QuantumCircuit, transpile, execute\n",
    "from qiskit_optimization import QuadraticProgram\n",
    "from qiskit_optimization.algorithms import QAOA\n",
    "from qiskit_optimization.converters import QuadraticProgramToQubo\n",
    "from qiskit_ibm_runtime import QiskitRuntimeService\n",
    "\n",
    "# Initialize the QiskitRuntimeService\n",
    "service = QiskitRuntimeService(channel=\"ibm_quantum\")\n",
    "\n",
    "# Define the portfolio optimization problem\n",
    "num_assets = 4\n",
    "expected_returns = [0.1, 0.2, 0.15, 0.05]\n",
    "covariances = [\n",
    "    [0.005, -0.010, 0.004, -0.002],\n",
    "    [-0.010, 0.040, -0.002, 0.004],\n",
    "    [0.004, -0.002, 0.023, 0.002],\n",
    "    [-0.002, 0.004, 0.002, 0.010]\n",
    "]\n",
    "\n",
    "# Create a Quadratic Program\n",
    "qp = QuadraticProgram()\n",
    "\n",
    "# Add binary variables for each asset\n",
    "for i in range(num_assets):\n",
    "    qp.binary_var(name=f'x{i}')\n",
    "\n",
    "# Set the objective function (maximize expected returns)\n",
    "qp.maximize(linear=expected_returns)\n",
    "\n",
    "# Add the covariance matrix as a quadratic term (minimize risk)\n",
    "for i in range(num_assets):\n",
    "    for j in range(num_assets):\n",
    "        if i != j:\n",
    "            qp.quadratic[i, j] = covariances[i][j]\n",
    "\n",
    "# Convert the problem to a QUBO\n",
    "qubo = QuadraticProgramToQubo().convert(qp)\n",
    "\n",
    "# Set up the QAOA algorithm\n",
    "qaoa = QAOA()\n",
    "\n",
    "# Solve the problem using QAOA\n",
    "result = qaoa.solve(qubo)\n",
    "\n",
    "# Analyze the results\n",
    "print(\"Optimal portfolio:\", result.x)\n",
    "print(\"Expected return:\", sum([result.x[i] * expected_returns[i] for i in range(num_assets)]))\n",
    "print(\"Risk:\", sum([result.x[i] * result.x[j] * covariances[i][j] for i in range(num_assets) for j in range(num_assets)]))"
   ]
  },
  {
   "cell_type": "code",
   "execution_count": null,
   "metadata": {},
   "outputs": [
    {
     "name": "stdout",
     "output_type": "stream",
     "text": [
      "Found existing installation: qiskit 1.2.2\n",
      "Uninstalling qiskit-1.2.2:\n",
      "  Would remove:\n",
      "    /Users/ofidohubvm/opt/anaconda3/envs/qiskit_env/lib/python3.8/site-packages/qiskit-1.2.2.dist-info/*\n",
      "    /Users/ofidohubvm/opt/anaconda3/envs/qiskit_env/lib/python3.8/site-packages/qiskit/*\n",
      "Proceed (Y/n)? "
     ]
    }
   ],
   "source": [
    "pip uninstall qiskit qiskit-aer qiskit-ibmq-provider"
   ]
  },
  {
   "cell_type": "code",
   "execution_count": null,
   "metadata": {},
   "outputs": [],
   "source": [
    "n"
   ]
  },
  {
   "cell_type": "code",
   "execution_count": null,
   "metadata": {},
   "outputs": [],
   "source": [
    "pip install qiskit qiskit-aer qiskit-ibmq-provider"
   ]
  },
  {
   "cell_type": "code",
   "execution_count": null,
   "metadata": {},
   "outputs": [],
   "source": []
  }
 ],
 "metadata": {
  "kernelspec": {
   "display_name": "Python 3 (ipykernel)",
   "language": "python",
   "name": "python3"
  },
  "language_info": {
   "codemirror_mode": {
    "name": "ipython",
    "version": 3
   },
   "file_extension": ".py",
   "mimetype": "text/x-python",
   "name": "python",
   "nbconvert_exporter": "python",
   "pygments_lexer": "ipython3",
   "version": "3.8.19"
  }
 },
 "nbformat": 4,
 "nbformat_minor": 4
}
