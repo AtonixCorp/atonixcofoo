{
 "cells": [
  {
   "cell_type": "code",
   "execution_count": 1,
   "metadata": {},
   "outputs": [],
   "source": [
    "from qiskit_ibm_runtime import QiskitRuntimeService\n",
    " \n",
    "service = QiskitRuntimeService(channel=\"ibm_quantum\", token=\"f82db6715ce343b1c8655d88a610c8c159ae0afa414de90ed719396051c330dc2ddfb7f0a2d89880633d1b8a8cdfcd2a6723ab9e2cd5f380c920b451d30320c2\")\n",
    " "
   ]
  },
  {
   "cell_type": "code",
   "execution_count": 2,
   "metadata": {},
   "outputs": [],
   "source": [
    "from qiskit_ibm_runtime import QiskitRuntimeService\n",
    " \n",
    "\n",
    "QiskitRuntimeService.save_account(\n",
    "    channel=\"ibm_quantum\",\n",
    "    token=\"f82db6715ce343b1c8655d88a610c8c159ae0afa414de90ed719396051c330dc2ddfb7f0a2d89880633d1b8a8cdfcd2a6723ab9e2cd5f380c920b451d30320c2\",\n",
    "    set_as_default=True,\n",
    "  \n",
    "    overwrite=True,\n",
    ")\n",
    "\n",
    "service = QiskitRuntimeService()"
   ]
  },
  {
   "cell_type": "code",
   "execution_count": null,
   "metadata": {},
   "outputs": [
    {
     "name": "stdout",
     "output_type": "stream",
     "text": [
      "job id: cvz3tzvvd9q0008y8ee0\n"
     ]
    }
   ],
   "source": [
    "from qiskit import QuantumCircuit\n",
    "from qiskit_ibm_runtime import QiskitRuntimeService, SamplerV2 as Sampler\n",
    " \n",
    "example_circuit = QuantumCircuit(2)\n",
    "example_circuit.measure_all()\n",
    " \n",
    "service = QiskitRuntimeService()\n",
    "backend = service.least_busy(operational=True, simulator=False)\n",
    " \n",
    "sampler = Sampler(backend)\n",
    "job = sampler.run([example_circuit])\n",
    "print(f\"job id: {job.job_id()}\")\n",
    "result = job.result()\n",
    "print(result)"
   ]
  },
  {
   "cell_type": "code",
   "execution_count": null,
   "metadata": {},
   "outputs": [],
   "source": [
    " from qiskit_ibm_runtime import QiskitRuntimeService\n",
    " \n",
    " service = QiskitRuntimeService()"
   ]
  },
  {
   "cell_type": "code",
   "execution_count": null,
   "metadata": {},
   "outputs": [],
   "source": [
    "from qiskit import QuantumCircuit, transpile, Aer, execute\n",
    "from qiskit_ibm_runtime import QiskitRuntimeService\n",
    "\n",
    "\n",
    "service = QiskitRuntimeService(channel=\"ibm_quantum\")\n",
    "\n",
    "job_id = \"cvz3tzvvd9q0008y8ee0\"\n",
    "job = service.job(job_id)\n",
    "\n",
    "print(f\"Job status: {job.status()}\")\n",
    "\n"
   ]
  },
  {
   "cell_type": "code",
   "execution_count": null,
   "metadata": {},
   "outputs": [],
   "source": [
    "def grovers_algorithm():\n",
    "    \n",
    "    qc = QuantumCircuit(2, 2)\n",
    "\n",
    "    \n",
    "    qc.h([0, 1])\n",
    "\n",
    "    qc.cz(0, 1)\n",
    "\n",
    "    qc.h([0, 1])\n",
    "\n",
    "  \n",
    "    qc.measure([0, 1], [0, 1])\n",
    "\n",
    "    return qc\n",
    "\n",
    "qc = grovers_algorithm()\n",
    "\n",
    "\n",
    "simulator = Aer.get_backend('qasm_simulator')\n",
    "\n",
    "compiled_circuit = transpile(qc, simulator)\n",
    "\n",
    "\n",
    "job_sim = execute(compiled_circuit, simulator, shots=1024)\n",
    "\n",
    "\n",
    "result_sim = job_sim.result()\n",
    "\n",
    "\n",
    "counts = result_sim.get_counts(compiled_circuit)\n",
    "print(\"\\nTotal count for 00 and 11 are:\", counts)\n",
    "\n"
   ]
  }
 ],
 "metadata": {
  "kernelspec": {
   "display_name": "Python 3 (ipykernel)",
   "language": "python",
   "name": "python3"
  },
  "language_info": {
   "codemirror_mode": {
    "name": "ipython",
    "version": 3
   },
   "file_extension": ".py",
   "mimetype": "text/x-python",
   "name": "python",
   "nbconvert_exporter": "python",
   "pygments_lexer": "ipython3",
   "version": "3.8.19"
  }
 },
 "nbformat": 4,
 "nbformat_minor": 4
}
