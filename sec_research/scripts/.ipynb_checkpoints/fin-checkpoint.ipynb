{
 "cells": [
  {
   "cell_type": "code",
   "execution_count": 1,
   "metadata": {},
   "outputs": [
    {
     "ename": "ImportError",
     "evalue": "cannot import name 'Aer' from 'qiskit' (/Users/ofidohubvm/opt/anaconda3/envs/qiskit_env/lib/python3.8/site-packages/qiskit/__init__.py)",
     "output_type": "error",
     "traceback": [
      "\u001b[0;31m---------------------------------------------------------------------------\u001b[0m",
      "\u001b[0;31mImportError\u001b[0m                               Traceback (most recent call last)",
      "Cell \u001b[0;32mIn[1], line 1\u001b[0m\n\u001b[0;32m----> 1\u001b[0m \u001b[38;5;28;01mfrom\u001b[39;00m \u001b[38;5;21;01mqiskit\u001b[39;00m \u001b[38;5;28;01mimport\u001b[39;00m Aer, QuantumCircuit, transpile, assemble\n\u001b[1;32m      2\u001b[0m \u001b[38;5;28;01mfrom\u001b[39;00m \u001b[38;5;21;01mqiskit\u001b[39;00m\u001b[38;5;21;01m.\u001b[39;00m\u001b[38;5;21;01mcircuit\u001b[39;00m\u001b[38;5;21;01m.\u001b[39;00m\u001b[38;5;21;01mlibrary\u001b[39;00m \u001b[38;5;28;01mimport\u001b[39;00m QFT\n\u001b[1;32m      3\u001b[0m \u001b[38;5;28;01mfrom\u001b[39;00m \u001b[38;5;21;01mqiskit\u001b[39;00m\u001b[38;5;21;01m.\u001b[39;00m\u001b[38;5;21;01malgorithms\u001b[39;00m \u001b[38;5;28;01mimport\u001b[39;00m AmplitudeEstimation\n",
      "\u001b[0;31mImportError\u001b[0m: cannot import name 'Aer' from 'qiskit' (/Users/ofidohubvm/opt/anaconda3/envs/qiskit_env/lib/python3.8/site-packages/qiskit/__init__.py)"
     ]
    }
   ],
   "source": [
    "from qiskit import Aer, QuantumCircuit, transpile, assemble\n",
    "from qiskit.circuit.library import QFT\n",
    "from qiskit.algorithms import AmplitudeEstimation\n",
    "from qiskit_finance.applications import EuropeanCallPricing\n",
    "from qiskit_ibm_runtime import QiskitRuntimeService\n",
    "\n",
    "# Initialize the QiskitRuntimeService\n",
    "service = QiskitRuntimeService(channel=\"ibm_quantum\")\n",
    "\n",
    "# Define the parameters for the European call option\n",
    "spot_price = 2.0  # Current price of the underlying asset\n",
    "strike_price = 1.896  # Strike price of the option\n",
    "interest_rate = 0.05  # Risk-free interest rate\n",
    "volatility = 0.4  # Volatility of the underlying asset\n",
    "maturity = 40 / 365  # Time to maturity in years\n",
    "\n",
    "# Create the European call pricing problem\n",
    "european_call = EuropeanCallPricing(\n",
    "    spot_price=spot_price,\n",
    "    strike_price=strike_price,\n",
    "    interest_rate=interest_rate,\n",
    "    volatility=volatility,\n",
    "    maturity=maturity\n",
    ")\n",
    "\n",
    "# Set up the quantum circuit for amplitude estimation\n",
    "num_qubits = 3\n",
    "circuit = european_call.construct_circuit(num_qubits)\n",
    "\n",
    "# Use Aer's qasm_simulator\n",
    "simulator = Aer.get_backend('qasm_simulator')\n",
    "\n",
    "# Transpile the circuit for the simulator\n",
    "compiled_circuit = transpile(circuit, simulator)\n",
    "\n",
    "# Execute the circuit on the qasm simulator\n",
    "job_sim = execute(compiled_circuit, simulator, shots=1024)\n",
    "\n",
    "# Grab results from the job\n",
    "result_sim = job_sim.result()\n",
    "\n",
    "# Get the counts (how many times each result was measured)\n",
    "counts = result_sim.get_counts(compiled_circuit)\n",
    "print(\"\\nTotal count for each state:\", counts)\n",
    "\n",
    "# Analyze the results\n",
    "# (In a real financial analysis, you would perform more detailed analysis here)"
   ]
  }
 ],
 "metadata": {
  "kernelspec": {
   "display_name": "Python 3 (ipykernel)",
   "language": "python",
   "name": "python3"
  }
 },
 "nbformat": 4,
 "nbformat_minor": 2
}
