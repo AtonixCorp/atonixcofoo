{
 "cells": [
  {
   "cell_type": "code",
   "execution_count": null,
   "metadata": {},
   "outputs": [],
   "source": [
    "from qiskit_ibm_runtime import QiskitRuntimeService\n",
    "\n",
    "\n",
    "service = QiskitRuntimeService(channel=\"ibm_quantum\", token=\"f82db6715ce343b1c8655d88a610c8c159ae0afa414de90ed719396051c330dc2ddfb7f0a2d89880633d1b8a8cdfcd2a6723ab9e2cd5f380c920b451d30320c2\")\n",
    "\n",
    "\n",
    "job_id = \"cv2sp78x55b00083sn10in\"\n",
    "job = service.job(job_id)\n",
    "\n",
    "job.restart()"
   ]
  }
 ],
 "metadata": {
  "language_info": {
   "name": "python"
  }
 },
 "nbformat": 4,
 "nbformat_minor": 2
}
