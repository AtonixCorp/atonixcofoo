{
 "cells": [
  {
   "cell_type": "code",
   "execution_count": null,
   "metadata": {
    "vscode": {
     "languageId": "plaintext"
    }
   },
   "outputs": [],
   "source": [
    "from qiskit_ibm_runtime import QiskitRuntimeService\n",
    "\n",
    "service = QiskitRuntimeService(channel=\"ibm_cloud\", token=\"Ol2Phk7orTWeB0hBcQs2GMvgtO_I_Qxzx0ib8AiHo9gq\", instance=\"crn:v1:bluemix:public:quantum-computing:us-east:a/f8691d237a8147fa83f6a762b2a91210:d4d0e6c8-2e1b-4e02-9def-011910e12ca4::\")"
   ]
  }
 ],
 "metadata": {
  "language_info": {
   "name": "python"
  }
 },
 "nbformat": 4,
 "nbformat_minor": 2
}
